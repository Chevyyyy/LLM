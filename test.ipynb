{
 "cells": [
  {
   "cell_type": "code",
   "execution_count": null,
   "metadata": {},
   "outputs": [],
   "source": [
    "import torch\n",
    "from trl import SFTTrainer\n",
    "from datasets import load_dataset\n",
    "from peft import * \n",
    "import textwrap\n",
    "from transformers import AutoModelForCausalLM, AutoTokenizer, TrainingArguments\n",
    "\n",
    "\n",
    "train_dataset = load_dataset(\"tatsu-lab/alpaca\", split=\"train\")\n",
    "print(train_dataset)\n",
    "pandas_format = train_dataset.to_pandas()\n",
    "print(pandas_format.head())\n",
    "for index in range(3):\n",
    "   print(\"---\"*15)\n",
    "   print(\"Instruction:       {}\".format(textwrap.fill(pandas_format.iloc[index][\"instruction\"],    \n",
    "       width=50)))\n",
    "   print(\"Output:       {}\".format(textwrap.fill(pandas_format.iloc[index][\"output\"],  \n",
    "       width=50)))\n",
    "   print(\"Text:        {}\".format(textwrap.fill(pandas_format.iloc[index][\"text\"],  \n",
    "       width=50)))\n",
    "\n",
    "       \n",
    "       \n",
    "pretrained_model_name = \"Salesforce/xgen-7b-8k-base\"\n",
    "model = AutoModelForCausalLM.from_pretrained(pretrained_model_name, torch_dtype=torch.bfloat16)\n",
    "tokenizer = AutoTokenizer.from_pretrained(pretrained_model_name, trust_remote_code=True)"
   ]
  }
 ],
 "metadata": {
  "kernelspec": {
   "display_name": "chevy",
   "language": "python",
   "name": "python3"
  },
  "language_info": {
   "name": "python",
   "version": "3.8.0"
  }
 },
 "nbformat": 4,
 "nbformat_minor": 2
}
